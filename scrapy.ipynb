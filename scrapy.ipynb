{
 "cells": [
  {
   "cell_type": "markdown",
   "metadata": {},
   "source": [
    "Importing all necessary libraries"
   ]
  },
  {
   "cell_type": "code",
   "execution_count": 56,
   "metadata": {},
   "outputs": [],
   "source": [
    "import requests\n",
    "from bs4 import BeautifulSoup\n",
    "import matplotlib.pyplot as plt\n",
    "import numpy as np \n",
    "import pandas as pd\n",
    "import seaborn as sns"
   ]
  },
  {
   "cell_type": "markdown",
   "metadata": {},
   "source": [
    "'Certified Fresh' , Genre :'Adventure_movies' : Rating : 'G'"
   ]
  },
  {
   "cell_type": "code",
   "execution_count": 57,
   "metadata": {},
   "outputs": [
    {
     "name": "stdout",
     "output_type": "stream",
     "text": [
      "{'Title': ['Twisters', 'Despicable Me 4', 'Paris Olympics on NBC at AMC Theatres', \"NBC's Paris Olympics Opening Ceremony in IMAX\", 'Fly Me to the Moon', 'MaXXXine', 'Longlegs', 'Touch', 'A Quiet Place: Day One', 'Inside Out 2', 'Lumina', 'Princess Mononoke', 'Horizon: An American Saga - Chapter 1', 'Sing Sing', 'Kinds of Kindness', 'The Bikeriders', 'Thelma', 'Tuesday', 'The Exorcism', 'Janet Planet', 'Season 6 – Cobra Kai', 'Season 1 – Those About to Die', 'Season 1 – Lady in the Lake', 'Season 4 – Snowpiercer', 'Season 2 – House of the Dragon', 'Season 1 – Sunny', 'Season 3 – Vikings: Valhalla', 'Season 1 – Sausage Party: Foodtopia', 'The Imaginary', 'Season 1 – My Lady Jane', 'Season 3 – The Bear', 'Beverly Hills Cop: Axel F', 'Season 1 – Land of Women', 'Space Cadet', 'Fancy Dance', 'Season 4 – The Boys', 'Season 1 – Star Wars: The Acolyte', 'Season 1 – Orphan Black: Echoes', 'Season 3 – Bridgerton', 'Season 2 – Interview With the Vampire', 'Despicable Me 4', 'Inside Out 2', 'A Quiet Place: Day One', 'MaXXXine', 'Bad Boys: Ride or Die', 'Horizon: An American Saga - Chapter 1', 'Sound of Hope: The Story of Possum Trot', 'Kalki 2898 AD', 'The Bikeriders', 'Kinds of Kindness', 'The Fall Guy', 'Thelma', 'Kingdom of the Planet of the Apes', 'The Garfield Movie', 'Kill', 'IF', 'Blue Lock the Movie -Episode Nagi-', 'Janet Planet', 'Daddio', 'Ghostlight', 'Longlegs', 'The Outwaters', 'Season 2 – We Are Lady Parts', 'The Monk and the Gun', 'Remembering Gene Wilder', 'MaXXXine', 'Daddio', 'Kill', 'A Quiet Place: Day One', 'Season 1 – My Lady Jane', \"The Devil's Bath\", 'Season 3 – The Bear', 'Orlando, My Political Biography', 'Last Summer', 'Brats', 'Tuesday', 'Fancy Dance', 'The Bikeriders', 'Janet Planet', 'Chestnut', 'Doctor Strange in the Multiverse of Madness', 'The Outwaters', 'The Nature of Love', 'Kill', 'Mother, Couch', 'South Park: Bigger, Longer & Uncut', 'Beverly Hills Cop II', 'Orlando, My Political Biography', 'Blue Lock the Movie -Episode Nagi-', 'Kinds of Kindness', 'Beverly Hills Cop: Axel F', 'WondLa', 'Handling the Undead', 'Something in the Water'], 'Rating': ['72%', '72%', '72%', '72%', '72%', '72%', '72%', '72%', '72%', '72%', '72%', '72%', '72%', '72%', '72%', '72%', '72%', '72%', '72%', '72%', '72%', '72%', '72%', '72%', '72%', '72%', '72%', '72%', '72%', '72%', '72%', '72%', '72%', '72%', '72%', '72%', '72%', '72%', '72%', '72%', '72%', '72%', '72%', '72%', '72%', '72%', '72%', '72%', '72%', '72%', '72%', '72%', '72%', '72%', '72%', '72%', '72%', '72%', '72%', '72%', '72%', '72%', '72%', '72%', '72%', '72%', '72%', '72%', '72%', '72%', '72%', '72%', '72%', '72%', '72%', '72%', '72%', '72%', '72%', '72%', '72%', '72%', '72%', '72%', '72%', '72%', '72%', '72%', '72%', '72%', '72%', '72%', '72%', '72%'], 'Genre': ['Action', 'Kids & Family', 'Sports', 'Sports', 'Romance', 'Horror', 'Horror', 'Romance', 'Horror', 'Kids & Family', 'Sci-Fi', 'Adventure', 'Western', 'Drama', 'Comedy', 'Crime', 'Comedy', 'Sci-Fi', 'Horror', 'Drama', 'Comedy', 'Action', 'Drama', 'Sci-Fi', 'Drama', 'Mystery & Thriller', 'History', 'Entertainment', 'Fantasy', 'Comedy', 'Comedy', 'Action', 'Comedy', 'Comedy', 'Drama', 'Comedy', 'Action', 'Drama', 'Drama', 'Drama', 'Kids & Family', 'Kids & Family', 'Horror', 'Horror', 'Action', 'Western', 'Drama', 'Sci-Fi', 'Crime', 'Comedy', 'Action', 'Comedy', 'Sci-Fi', 'Kids & Family', 'Action', 'Kids & Family', 'Drama', 'Drama', 'Drama', 'Comedy', 'Horror', 'Horror', 'Music', 'Drama', 'Documentary', 'Horror', 'Drama', 'Action', 'Horror', 'Comedy', 'Horror', 'Comedy', 'Documentary', 'Drama', 'Documentary', 'Sci-Fi', 'Drama', 'Crime', 'Drama', 'Drama', 'Action', 'Horror', 'Comedy', 'Action', 'Comedy', 'Comedy', 'Action', 'Documentary', 'Drama', 'Comedy', 'Action', 'Kids & Family', 'Horror', 'Mystery & Thriller'], 'Release Date': ['In Theaters Fri Jul 19', 'Now Playing', 'In Theaters Fri Jul 26', 'In Theaters Fri Jul 26', 'Now Playing', 'Now Playing', 'Now Playing', 'Now Playing', 'Now Playing', 'Now Playing', 'Now Playing', 'Released Jul 12, 1997', 'Now Playing', 'Now Playing', 'Now Playing', 'Released Jun 21', 'Now Playing', 'Now Playing', 'Released Jun 21', 'Now Playing', 'Next Ep Thu Jul 18', 'Premieres Thu Jul 18', 'Premieres Fri Jul 19', 'Next Ep Tue Jul 16', 'Next Ep Sun Jul 21', 'Next Ep Wed Jul 17', '2024', '2024', 'Now Playing', '2024', '2024', 'Now Playing', 'Next Ep Wed Jul 17', '2024', 'Now Playing', 'Next Ep Thu Jul 18', 'Next Ep Tue Jul 16', '2023', '2024', '2024', 'Now Playing', 'Now Playing', 'Now Playing', 'Now Playing', 'Now Playing', 'Now Playing', 'Now Playing', 'Now Playing', 'Released Jun 21', 'Now Playing', 'Released May 3', 'Now Playing', 'Released May 10', 'Released May 24', 'Now Playing', 'Released May 17', 'Now Playing', 'Now Playing', 'Now Playing', 'Now Playing', 'Now Playing', 'Released Feb 9, 2023', '2024', 'Released Feb 9', 'Released Mar 15', 'Now Playing', 'Now Playing', 'Now Playing', 'Now Playing', '2024', 'Released Jun 21', '2024', 'Released Nov 10, 2023', 'Now Playing', '2024', 'Now Playing', 'Now Playing', 'Released Jun 21', 'Now Playing', 'Released Jun 21', 'Released May 6, 2022', 'Released Feb 9, 2023', 'Now Playing', 'Now Playing', 'Now Playing', 'Released Jun 30, 1999', 'Released May 20, 1987', 'Released Nov 10, 2023', 'Now Playing', 'Now Playing', 'Now Playing', '2024 - Present', 'Released May 31', 'Released May 3'], 'Reviews Count': ['38 Reviews', '145 Reviews', 'Reviews', 'Reviews', '163 Reviews', '232 Reviews', '166 Reviews', '38 Reviews', '249 Reviews', '296 Reviews', '11 Reviews', '118 Reviews', '130 Reviews', '66 Reviews', '239 Reviews', '249 Reviews', '150 Reviews', '93 Reviews', '116 Reviews', '111 Reviews', 'Reviews', 'Reviews', 'Reviews', 'Reviews', '152 Reviews', '47 Reviews', 'Reviews', '19 Reviews', '76 Reviews', '30 Reviews', '85 Reviews', '182 Reviews', '19 Reviews', '27 Reviews', '113 Reviews', '120 Reviews', '211 Reviews', '23 Reviews', '71 Reviews', '69 Reviews', '145 Reviews', '296 Reviews', '249 Reviews', '232 Reviews', '238 Reviews', '130 Reviews', '37 Reviews', '32 Reviews', '249 Reviews', '239 Reviews', '356 Reviews', '150 Reviews', '308 Reviews', '131 Reviews', '89 Reviews', '197 Reviews', '11 Reviews', '111 Reviews', '97 Reviews', '82 Reviews', '166 Reviews', '69 Reviews', '20 Reviews', '40 Reviews', '41 Reviews', '232 Reviews', '97 Reviews', '89 Reviews', '249 Reviews', '30 Reviews', '58 Reviews', '85 Reviews', '48 Reviews', '60 Reviews', '58 Reviews', '93 Reviews', '113 Reviews', '249 Reviews', '111 Reviews', '15 Reviews', '464 Reviews', '69 Reviews', '29 Reviews', '89 Reviews', '43 Reviews', '99 Reviews', '40 Reviews', '48 Reviews', '11 Reviews', '239 Reviews', '182 Reviews', '6 Reviews', '73 Reviews', '18 Reviews'], 'Rating Code': ['PG-13', 'PG', 'PG-13', 'R', 'R', 'R', 'PG-13', 'PG', 'R', 'PG-13', 'R', 'R', 'R', 'R', 'PG-13', 'R', 'R', 'PG-13', 'PG', 'R', 'PG-13', 'R', 'PG', 'PG', 'PG-13', 'R', 'R', 'R', 'PG-13', 'R', 'R', 'PG-13', 'PG-13', 'PG-13', 'PG', 'R', 'PG', 'PG-13', 'PG-13', 'R', 'R', 'R', 'PG-13', 'R', 'R', 'R', 'PG-13', 'R', 'R', 'R', 'PG-13', 'PG-13', 'R', 'R', 'R', 'PG-13', 'R', 'R', 'TV-G', 'R', 'R'], 'Duration': ['2h 2m', '1h 35m', '4h 0m', '2h 12m', '1h 41m', '1h 41m', '2h 1m', '1h 40m', '1h 36m', '2h 13m', '3h 1m', '1h 45m', '2h 44m', '1h 56m', '1h 37m', '1h 50m', '1h 33m', '1h 50m', '1h 48m', '1h 55m', '1h 50m', '1h 32m', '1h 35m', '1h 36m', '1h 40m', '1h 41m', '1h 55m', '3h 1m', '2h 15m', '2h 45m', '1h 56m', '2h 44m', '2h 6m', '1h 37m', '2h 25m', '1h 41m', '1h 55m', '1h 44m', '1h 31m', '1h 50m', '1h 41m', '1h 55m', '1h 41m', '1h 50m', '1h 47m', '1h 32m', '1h 41m', '1h 41m', '1h 55m', '1h 40m', '2h 1m', '1h 39m', '1h 44m', '1h 32m', '1h 50m', '1h 32m', '1h 56m', '1h 50m', '1h 27m', '2h 6m', '1h 50m', '1h 51m', '1h 55m', '1h 36m', '1h 21m', '1h 43m', '1h 39m', '1h 31m', '2h 44m', '1h 55m', '1h 37m', '1h 26m']}\n"
     ]
    }
   ],
   "source": [
    "\n",
    "movie_dict={'Title':[],'Rating':[],'Genre':[], \"Release Date\":[], \"Reviews Count\":[],\"Rating Code\":[],\"Duration\":[]}\n",
    "movie_links=[]\n",
    "BASE_URL=\"https://www.rottentomatoes.com\"\n",
    "def fetchUrl(url):\n",
    "    try:\n",
    "        response = requests.get(url)\n",
    "        soup=BeautifulSoup(response.text, 'html.parser')\n",
    "        return soup\n",
    "    except Exception as e:\n",
    "        print(\"Error: \",e)\n",
    "def get_movie_links(href):\n",
    "        movie_links.append(BASE_URL + href)\n",
    "        return movie_links\n",
    "def scrapingData(url):\n",
    "    soup=fetchUrl(url)\n",
    "    movieTitle=soup.find(\"h1\",attrs={\"slot\":\"titleIntro\"})\n",
    "    movieRatingsCode=soup.find(\"rt-text\",attrs={\"slot\":\"ratingsCode\"})\n",
    "    movieReleaseDate=soup.find(\"rt-text\",attrs={\"slot\":\"releaseDate\"})\n",
    "    movieGenre=soup.find(\"rt-text\",attrs={\"slot\":\"genre\"})\n",
    "    movieDuration=soup.find(\"rt-text\",attrs={\"slot\":\"duration\"})\n",
    "    movieRating=soup.find(\"rt-text\",attrs={\"context\":\"label\"})\n",
    "    movieReviewsCount=soup.find(\"rt-link\",attrs={\"slot\":\"criticsReviews\"})\n",
    "    movie_dict[\"Title\"].append(movieTitle.text.strip())\n",
    "    if movieRating:\n",
    "        movie_dict[\"Rating\"].append(movieRating.text.strip())\n",
    "    if movieGenre:\n",
    "        movie_dict[\"Genre\"].append(movieGenre.text.strip())\n",
    "    if movieReleaseDate:\n",
    "        movie_dict[\"Release Date\"].append(movieReleaseDate.text.strip())\n",
    "    if movieRatingsCode:\n",
    "        movie_dict[\"Rating Code\"].append(movieRatingsCode.text.strip())\n",
    "    if movieDuration:\n",
    "        movie_dict[\"Duration\"].append(movieDuration.text.strip())\n",
    "    if movieReviewsCount:\n",
    "        movie_dict[\"Reviews Count\"].append(movieReviewsCount.text.strip())\n",
    "    return movie_dict\n",
    "soup=fetchUrl(BASE_URL)\n",
    "totalLinks=soup.find_all('a',attrs={'data-track':\"scores\" , \"slot\":\"caption\"})\n",
    "totalLinks = [tag.get('href') for tag in totalLinks]\n",
    "for href in totalLinks:\n",
    "    movieUrl=get_movie_links(href)\n",
    "\n",
    "count=0\n",
    "for movies in movieUrl:\n",
    "    movieData=scrapingData(movies)\n",
    "print(movieData)\n"
   ]
  },
  {
   "cell_type": "code",
   "execution_count": 58,
   "metadata": {},
   "outputs": [
    {
     "name": "stdout",
     "output_type": "stream",
     "text": [
      "94 94 94 94 61 72 94\n",
      "Title: 94\n",
      "Rating: 94\n",
      "Genre: 94\n",
      "Release Date: 94\n",
      "Reviews Count: 94\n",
      "Rating Code: 94\n",
      "Duration: 94\n"
     ]
    }
   ],
   "source": [
    "print(len(movieData[\"Title\"]),len(movieData[\"Rating\"]),len(movieData[\"Genre\"]),len(movieData[\"Release Date\"]),len(movieData[\"Rating Code\"]),len(movieData[\"Duration\"]),len(movieData[\"Reviews Count\"]))\n",
    "if len(movieData[\"Rating Code\"]) < 94:\n",
    "    movieData[\"Rating Code\"].extend([None] * (94 - len(movieData[\"Rating Code\"])))\n",
    "\n",
    "if len(movieData[\"Duration\"]) < 94:\n",
    "    movieData[\"Duration\"].extend([None] * (94 - len(movieData[\"Duration\"])))\n",
    "\n",
    "for key in movieData.keys():\n",
    "    print(f\"{key}: {len(movieData[key])}\")\n"
   ]
  },
  {
   "cell_type": "markdown",
   "metadata": {},
   "source": [
    "create a dataframe and store a csv file for all scrape data\n"
   ]
  },
  {
   "cell_type": "code",
   "execution_count": 59,
   "metadata": {},
   "outputs": [],
   "source": [
    "df=pd.DataFrame.from_dict(movieData)\n",
    "df.to_csv(\"movie_data.csv\",index=False)"
   ]
  },
  {
   "cell_type": "code",
   "execution_count": null,
   "metadata": {},
   "outputs": [],
   "source": []
  }
 ],
 "metadata": {
  "kernelspec": {
   "display_name": "Python 3",
   "language": "python",
   "name": "python3"
  },
  "language_info": {
   "codemirror_mode": {
    "name": "ipython",
    "version": 3
   },
   "file_extension": ".py",
   "mimetype": "text/x-python",
   "name": "python",
   "nbconvert_exporter": "python",
   "pygments_lexer": "ipython3",
   "version": "3.11.2"
  }
 },
 "nbformat": 4,
 "nbformat_minor": 2
}
