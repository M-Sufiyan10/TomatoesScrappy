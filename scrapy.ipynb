{
 "cells": [
  {
   "cell_type": "markdown",
   "metadata": {},
   "source": [
    "Importing all necessary libraries"
   ]
  },
  {
   "cell_type": "code",
   "execution_count": 5,
   "metadata": {},
   "outputs": [],
   "source": [
    "import requests\n",
    "from bs4 import BeautifulSoup\n",
    "import matplotlib.pyplot as plt\n",
    "import numpy as np \n",
    "import pandas as pd\n",
    "import seaborn as sns"
   ]
  },
  {
   "cell_type": "markdown",
   "metadata": {},
   "source": [
    "'Certified Fresh' , Genre :'Adventure_movies' : Rating : 'G'"
   ]
  },
  {
   "cell_type": "code",
   "execution_count": 6,
   "metadata": {},
   "outputs": [
    {
     "name": "stdout",
     "output_type": "stream",
     "text": [
      "{'Title': ['Twisters', 'Despicable Me 4', 'Paris Olympics on NBC at AMC Theatres', \"NBC's Paris Olympics Opening Ceremony in IMAX\", 'Longlegs', 'Fly Me to the Moon', 'Deadpool & Wolverine', 'MaXXXine', 'Touch', 'A Quiet Place: Day One', 'Inside Out 2', 'Sing Sing', 'Lumina', 'Princess Mononoke', 'Horizon: An American Saga - Chapter 1', 'Kinds of Kindness', 'Thelma', 'Season 1 – Those About to Die', 'Season 6 – Cobra Kai', 'Season 1 – Lady in the Lake', 'Season 4 – Snowpiercer', 'Season 1 – Star Wars: The Acolyte', 'Season 1 – Sunny', 'Season 2 – House of the Dragon', 'Thelma', 'Supacell', 'Season 3 – Vikings: Valhalla', 'Season 1 – Sausage Party: Foodtopia', 'My Spy the Eternal City', 'The Imaginary', 'Season 4 – The Boys', 'Young Woman and the Sea', 'Season 3 – The Bear', \"Season 2 – Marvel's Hit-Monkey\", 'Season 1 – My Lady Jane', 'Beverly Hills Cop: Axel F', 'Season 1 – Land of Women', 'Despicable Me 4', 'Longlegs', 'Inside Out 2', 'A Quiet Place: Day One', 'Fly Me to the Moon', 'Bad Boys: Ride or Die', 'Horizon: An American Saga - Chapter 1', 'MaXXXine', 'Sound of Hope: The Story of Possum Trot', 'Touch', 'Kingdom of the Planet of the Apes', 'The Bikeriders', 'The Fall Guy', 'Thelma', 'Kinds of Kindness', 'The Garfield Movie', 'Sing Sing', 'IF', 'Twisters', 'Touch', 'Longlegs', 'The Outwaters', 'Season 2 – We Are Lady Parts', 'The Monk and the Gun', 'Remembering Gene Wilder', 'MaXXXine', 'Daddio', 'Kill', 'A Quiet Place: Day One', 'Season 1 – My Lady Jane', \"The Devil's Bath\", 'Season 3 – The Bear', 'Orlando, My Political Biography', 'Last Summer', 'Brats', 'Tuesday', 'Fancy Dance', 'Skywalkers: A Love Story', 'Mad God', 'Kalki 2898 AD', 'Escape', 'Dandelion', \"The Commandant's Shadow\", 'Chestnut', 'Doctor Strange in the Multiverse of Madness', 'The Outwaters', 'The Nature of Love', 'Kill', 'Mother, Couch', 'South Park: Bigger, Longer & Uncut', 'Beverly Hills Cop II', 'Orlando, My Political Biography', 'Blue Lock the Movie -Episode Nagi-', 'Kinds of Kindness'], 'Rating': ['77%', '55%', '', '', '87%', '66%', '', '72%', '93%', '87%', '91%', '97%', '0%', '93%', '48%', '73%', '99%', '', '', '', '', '81%', '88%', '89%', '99%', '100%', '', '52%', '', '91%', '93%', '86%', '89%', '', '93%', '66%', '89%', '55%', '87%', '91%', '87%', '66%', '65%', '48%', '72%', '82%', '93%', '80%', '81%', '82%', '99%', '73%', '36%', '97%', '49%', '77%', '93%', '87%', '75%', '95%', '93%', '85%', '72%', '76%', '90%', '87%', '93%', '90%', '89%', '94%', '84%', '85%', '80%', '96%', '86%', '92%', '82%', '75%', '72%', '93%', '44%', '74%', '75%', '94%', '90%', '39%', '81%', '49%', '94%', '91%', '73%'], 'Genre': ['Action', 'Kids & Family', 'Sports', 'Sports', 'Horror', 'Romance', 'Action', 'Horror', 'Romance', 'Horror', 'Kids & Family', 'Drama', 'Sci-Fi', 'Adventure', 'Western', 'Comedy', 'Comedy', 'Action', 'Comedy', 'Drama', 'Sci-Fi', 'Action', 'Mystery & Thriller', 'Drama', 'Comedy', 'Drama', 'History', 'Entertainment', 'Action', 'Fantasy', 'Comedy', 'Biography', 'Comedy', 'Action', 'Comedy', 'Action', 'Comedy', 'Kids & Family', 'Horror', 'Kids & Family', 'Horror', 'Romance', 'Action', 'Western', 'Horror', 'Drama', 'Romance', 'Sci-Fi', 'Crime', 'Action', 'Comedy', 'Comedy', 'Kids & Family', 'Drama', 'Kids & Family', 'Action', 'Romance', 'Horror', 'Horror', 'Music', 'Drama', 'Documentary', 'Horror', 'Drama', 'Action', 'Horror', 'Comedy', 'Horror', 'Comedy', 'Documentary', 'Drama', 'Documentary', 'Sci-Fi', 'Drama', 'Documentary', 'Horror', 'Sci-Fi', 'Action', 'Drama', 'Documentary', 'Drama', 'Action', 'Horror', 'Comedy', 'Action', 'Comedy', 'Comedy', 'Action', 'Documentary', 'Drama', 'Comedy'], 'Release Date': ['In Theaters Fri Jul 19', 'Now Playing', 'In Theaters Fri Jul 26', 'In Theaters Fri Jul 26', 'Now Playing', 'Now Playing', 'In Theaters Fri Jul 26', 'Now Playing', 'Now Playing', 'Now Playing', 'Now Playing', 'Now Playing', 'Now Playing', 'Released Jul 12, 1997', 'Released Jun 28', 'Now Playing', 'Now Playing', 'Premieres Thu Jul 18', 'Next Ep Thu Jul 18', 'Premieres Fri Jul 19', 'Next Ep Sun Jul 21', '2024', 'Next Ep Wed Jul 24', 'Next Ep Sun Jul 21', 'Now Playing', '2024 - Present', '2024', '2024', '2024', 'Now Playing', 'Next Ep Thu Jul 18', 'Now Playing', '2024', '2024', '2024', 'Now Playing', 'Next Ep Wed Jul 24', 'Now Playing', 'Now Playing', 'Now Playing', 'Now Playing', 'Now Playing', 'Now Playing', 'Released Jun 28', 'Now Playing', 'Now Playing', 'Now Playing', 'Released May 10', 'Released Jun 21', 'Released May 3', 'Now Playing', 'Now Playing', 'Released May 24', 'Now Playing', 'Released May 17', 'In Theaters Fri Jul 19', 'Now Playing', 'Now Playing', 'Released Feb 9, 2023', '2024', 'Released Feb 9', 'Released Mar 15', 'Now Playing', 'Now Playing', 'Now Playing', 'Now Playing', '2024', 'Released Jun 21', '2024', 'Released Nov 10, 2023', 'Now Playing', '2024', 'Released Jun 14', 'Now Playing', 'Now Playing', 'Released Jun 16, 2022', 'Now Playing', 'Now Playing', 'Now Playing', 'Released May 29', 'Released Jun 21', 'Released May 6, 2022', 'Released Feb 9, 2023', 'Now Playing', 'Now Playing', 'Now Playing', 'Released Jun 30, 1999', 'Released May 20, 1987', 'Released Nov 10, 2023', 'Now Playing', 'Now Playing'], 'Reviews Count': ['91 Reviews', '148 Reviews', 'Reviews', 'Reviews', '202 Reviews', '185 Reviews', 'Reviews', '239 Reviews', '43 Reviews', '252 Reviews', '296 Reviews', '69 Reviews', '14 Reviews', '118 Reviews', '134 Reviews', '240 Reviews', '155 Reviews', 'Reviews', 'Reviews', 'Reviews', 'Reviews', '214 Reviews', '52 Reviews', '168 Reviews', '155 Reviews', '15 Reviews', 'Reviews', '21 Reviews', 'Reviews', '77 Reviews', '120 Reviews', '81 Reviews', '88 Reviews', 'Reviews', '30 Reviews', '187 Reviews', '19 Reviews', '148 Reviews', '202 Reviews', '296 Reviews', '252 Reviews', '185 Reviews', '238 Reviews', '134 Reviews', '239 Reviews', '38 Reviews', '43 Reviews', '308 Reviews', '251 Reviews', '357 Reviews', '155 Reviews', '240 Reviews', '132 Reviews', '69 Reviews', '197 Reviews', '91 Reviews', '43 Reviews', '202 Reviews', '69 Reviews', '20 Reviews', '40 Reviews', '41 Reviews', '239 Reviews', '97 Reviews', '90 Reviews', '252 Reviews', '30 Reviews', '58 Reviews', '88 Reviews', '48 Reviews', '61 Reviews', '59 Reviews', '94 Reviews', '114 Reviews', '28 Reviews', '95 Reviews', '33 Reviews', '12 Reviews', '39 Reviews', '15 Reviews', '16 Reviews', '465 Reviews', '69 Reviews', '31 Reviews', '90 Reviews', '44 Reviews', '99 Reviews', '41 Reviews', '48 Reviews', '11 Reviews', '240 Reviews'], 'Rating Code': ['PG-13', 'PG', 'R', 'PG-13', 'R', 'R', 'R', 'PG-13', 'PG', 'R', 'R', 'PG-13', 'R', 'R', 'PG-13', 'PG-13', 'TV-MA', 'PG-13', 'PG', 'PG', 'R', 'PG', 'R', 'PG', 'PG-13', 'PG-13', 'R', 'R', 'R', 'PG-13', 'R', 'PG-13', 'R', 'PG-13', 'PG-13', 'R', 'PG', 'R', 'PG', 'PG-13', 'R', 'R', 'PG-13', 'R', 'R', 'R', 'PG-13', 'R', 'R', 'R', 'R', 'PG-13', 'PG-13', 'R', 'R', 'R', 'PG-13', 'R'], 'Duration': ['2h 2m', '1h 35m', '4h 0m', '1h 41m', '2h 12m', '2h 7m', '1h 41m', '2h 1m', '1h 40m', '1h 36m', '1h 45m', '2h 13m', '3h 1m', '2h 44m', '1h 37m', '1h 37m', '1h 51m', '1h 48m', '2h 9m', '1h 55m', '1h 35m', '1h 41m', '1h 36m', '1h 40m', '2h 12m', '1h 55m', '3h 1m', '1h 41m', '2h 15m', '2h 1m', '2h 25m', '1h 56m', '2h 6m', '1h 37m', '2h 44m', '1h 41m', '1h 45m', '1h 44m', '2h 2m', '2h 1m', '1h 41m', '1h 50m', '1h 47m', '1h 32m', '1h 41m', '1h 41m', '1h 55m', '1h 40m', '2h 1m', '1h 39m', '1h 44m', '1h 32m', '1h 50m', '1h 32m', '1h 39m', '1h 23m', '2h 45m', '1h 34m', '1h 53m', '1h 43m', '1h 27m', '2h 6m', '1h 50m', '1h 51m', '1h 55m', '1h 36m', '1h 21m', '1h 43m', '1h 39m', '1h 31m', '2h 44m']}\n"
     ]
    }
   ],
   "source": [
    "\n",
    "movie_dict={'Title':[],'Rating':[],'Genre':[], \"Release Date\":[], \"Reviews Count\":[],\"Rating Code\":[],\"Duration\":[]}\n",
    "movie_links=[]\n",
    "BASE_URL=\"https://www.rottentomatoes.com\"\n",
    "def fetchUrl(url):\n",
    "    try:\n",
    "        response = requests.get(url)\n",
    "        soup=BeautifulSoup(response.text, 'html.parser')\n",
    "        return soup\n",
    "    except Exception as e:\n",
    "        print(\"Error: \",e)\n",
    "def get_movie_links(href):\n",
    "        movie_links.append(BASE_URL + href)\n",
    "        return movie_links\n",
    "def scrapingData(url):\n",
    "    soup=fetchUrl(url)\n",
    "    movieTitle=soup.find(\"h1\",attrs={\"slot\":\"titleIntro\"})\n",
    "    movieRatingsCode=soup.find(\"rt-text\",attrs={\"slot\":\"ratingsCode\"})\n",
    "    movieReleaseDate=soup.find(\"rt-text\",attrs={\"slot\":\"releaseDate\"})\n",
    "    movieGenre=soup.find(\"rt-text\",attrs={\"slot\":\"genre\"})\n",
    "    movieDuration=soup.find(\"rt-text\",attrs={\"slot\":\"duration\"})\n",
    "    movieRating=soup.find(\"rt-button\",attrs={\"slot\":\"criticsScore\"})\n",
    "    movieReviewsCount=soup.find(\"rt-link\",attrs={\"slot\":\"criticsReviews\"})\n",
    "    movie_dict[\"Title\"].append(movieTitle.text.strip())\n",
    "    if movieRating:\n",
    "        movie_dict[\"Rating\"].append(movieRating.text.strip())\n",
    "    if movieGenre:\n",
    "        movie_dict[\"Genre\"].append(movieGenre.text.strip())\n",
    "    if movieReleaseDate:\n",
    "        movie_dict[\"Release Date\"].append(movieReleaseDate.text.strip())\n",
    "    if movieRatingsCode:\n",
    "        movie_dict[\"Rating Code\"].append(movieRatingsCode.text.strip())\n",
    "    if movieDuration:\n",
    "        movie_dict[\"Duration\"].append(movieDuration.text.strip())\n",
    "    if movieReviewsCount:\n",
    "        movie_dict[\"Reviews Count\"].append(movieReviewsCount.text.strip())\n",
    "    return movie_dict\n",
    "soup=fetchUrl(BASE_URL)\n",
    "totalLinks=soup.find_all('a',attrs={'data-track':\"scores\" , \"slot\":\"caption\"})\n",
    "totalLinks = [tag.get('href') for tag in totalLinks]\n",
    "for href in totalLinks:\n",
    "    movieUrl=get_movie_links(href)\n",
    "\n",
    "count=0\n",
    "for movies in movieUrl:\n",
    "    movieData=scrapingData(movies)\n",
    "print(movieData)\n"
   ]
  },
  {
   "cell_type": "code",
   "execution_count": 7,
   "metadata": {},
   "outputs": [
    {
     "name": "stdout",
     "output_type": "stream",
     "text": [
      "91 91 91 91 58 71 91\n",
      "Title: 91\n",
      "Rating: 91\n",
      "Genre: 91\n",
      "Release Date: 91\n",
      "Reviews Count: 91\n",
      "Rating Code: 91\n",
      "Duration: 91\n"
     ]
    }
   ],
   "source": [
    "print(len(movieData[\"Title\"]),len(movieData[\"Rating\"]),len(movieData[\"Genre\"]),len(movieData[\"Release Date\"]),len(movieData[\"Rating Code\"]),len(movieData[\"Duration\"]),len(movieData[\"Reviews Count\"]))\n",
    "if len(movieData[\"Rating Code\"]) < 94:\n",
    "    movieData[\"Rating Code\"].extend([None] * (len(movieData['Title']) - len(movieData[\"Rating Code\"])))\n",
    "\n",
    "if len(movieData[\"Duration\"]) < 94:\n",
    "    movieData[\"Duration\"].extend([None] * (len(movieData['Title']) - len(movieData[\"Duration\"])))\n",
    "\n",
    "for key in movieData.keys():\n",
    "    print(f\"{key}: {len(movieData[key])}\")\n"
   ]
  },
  {
   "cell_type": "markdown",
   "metadata": {},
   "source": [
    "create a dataframe and store a csv file for all scrape data\n"
   ]
  },
  {
   "cell_type": "code",
   "execution_count": 8,
   "metadata": {},
   "outputs": [],
   "source": [
    "df=pd.DataFrame.from_dict(movieData)\n",
    "df.to_csv(\"movie_data.csv\",index=False)"
   ]
  },
  {
   "cell_type": "code",
   "execution_count": 9,
   "metadata": {},
   "outputs": [],
   "source": [
    "from openpyxl import Workbook\n",
    "import numpy as np\n",
    "\n",
    "wb=Workbook()\n",
    "ws=wb.active\n",
    "ws.title=\"Movie Data\"\n",
    "a=['Twisters',\n",
    "'Despicable Me 4',\n",
    "'Paris Olympics on NBC at AMC Theatres',\n",
    "\"NBC's Paris Olympics Opening Ceremony in IMAX\",\n",
    "'Fly Me to the Moon',\n",
    "'MaXXXine',\n",
    "'Longlegs',\n",
    "'Touch'\n",
    "]\n",
    "b=['PG-13',\n",
    "'PG',\n",
    "'PG-13'\n",
    "]\n",
    "temp_dict={\"title\":a,\"rating\":b}\n",
    "\n",
    "for key in temp_dict.keys():\n",
    "    ws.append([key]+temp_dict[key])\n",
    "np.transpose(temp_dict['title'])\n",
    "np.transpose(temp_dict['rating'])\n",
    "wb.save(\"movie_data.xlsx\")"
   ]
  },
  {
   "cell_type": "code",
   "execution_count": 10,
   "metadata": {},
   "outputs": [
    {
     "data": {
      "text/html": [
       "<div>\n",
       "<style scoped>\n",
       "    .dataframe tbody tr th:only-of-type {\n",
       "        vertical-align: middle;\n",
       "    }\n",
       "\n",
       "    .dataframe tbody tr th {\n",
       "        vertical-align: top;\n",
       "    }\n",
       "\n",
       "    .dataframe thead th {\n",
       "        text-align: right;\n",
       "    }\n",
       "</style>\n",
       "<table border=\"1\" class=\"dataframe\">\n",
       "  <thead>\n",
       "    <tr style=\"text-align: right;\">\n",
       "      <th></th>\n",
       "      <th>Title</th>\n",
       "      <th>Rating</th>\n",
       "      <th>Genre</th>\n",
       "      <th>Release Date</th>\n",
       "      <th>Reviews Count</th>\n",
       "      <th>Rating Code</th>\n",
       "      <th>Duration</th>\n",
       "    </tr>\n",
       "  </thead>\n",
       "  <tbody>\n",
       "    <tr>\n",
       "      <th>0</th>\n",
       "      <td>Twisters</td>\n",
       "      <td>77%</td>\n",
       "      <td>Action</td>\n",
       "      <td>In Theaters Fri Jul 19</td>\n",
       "      <td>91 Reviews</td>\n",
       "      <td>PG-13</td>\n",
       "      <td>2h 2m</td>\n",
       "    </tr>\n",
       "    <tr>\n",
       "      <th>1</th>\n",
       "      <td>Despicable Me 4</td>\n",
       "      <td>55%</td>\n",
       "      <td>Kids &amp; Family</td>\n",
       "      <td>Now Playing</td>\n",
       "      <td>148 Reviews</td>\n",
       "      <td>PG</td>\n",
       "      <td>1h 35m</td>\n",
       "    </tr>\n",
       "    <tr>\n",
       "      <th>2</th>\n",
       "      <td>Paris Olympics on NBC at AMC Theatres</td>\n",
       "      <td></td>\n",
       "      <td>Sports</td>\n",
       "      <td>In Theaters Fri Jul 26</td>\n",
       "      <td>Reviews</td>\n",
       "      <td>R</td>\n",
       "      <td>4h 0m</td>\n",
       "    </tr>\n",
       "    <tr>\n",
       "      <th>3</th>\n",
       "      <td>NBC's Paris Olympics Opening Ceremony in IMAX</td>\n",
       "      <td></td>\n",
       "      <td>Sports</td>\n",
       "      <td>In Theaters Fri Jul 26</td>\n",
       "      <td>Reviews</td>\n",
       "      <td>PG-13</td>\n",
       "      <td>1h 41m</td>\n",
       "    </tr>\n",
       "    <tr>\n",
       "      <th>4</th>\n",
       "      <td>Longlegs</td>\n",
       "      <td>87%</td>\n",
       "      <td>Horror</td>\n",
       "      <td>Now Playing</td>\n",
       "      <td>202 Reviews</td>\n",
       "      <td>R</td>\n",
       "      <td>2h 12m</td>\n",
       "    </tr>\n",
       "  </tbody>\n",
       "</table>\n",
       "</div>"
      ],
      "text/plain": [
       "                                           Title Rating          Genre  \\\n",
       "0                                       Twisters    77%         Action   \n",
       "1                                Despicable Me 4    55%  Kids & Family   \n",
       "2          Paris Olympics on NBC at AMC Theatres                Sports   \n",
       "3  NBC's Paris Olympics Opening Ceremony in IMAX                Sports   \n",
       "4                                       Longlegs    87%         Horror   \n",
       "\n",
       "             Release Date Reviews Count Rating Code Duration  \n",
       "0  In Theaters Fri Jul 19    91 Reviews       PG-13    2h 2m  \n",
       "1             Now Playing   148 Reviews          PG   1h 35m  \n",
       "2  In Theaters Fri Jul 26       Reviews           R    4h 0m  \n",
       "3  In Theaters Fri Jul 26       Reviews       PG-13   1h 41m  \n",
       "4             Now Playing   202 Reviews           R   2h 12m  "
      ]
     },
     "execution_count": 10,
     "metadata": {},
     "output_type": "execute_result"
    }
   ],
   "source": [
    "df.head(5)\n"
   ]
  }
 ],
 "metadata": {
  "kernelspec": {
   "display_name": "Python 3",
   "language": "python",
   "name": "python3"
  },
  "language_info": {
   "codemirror_mode": {
    "name": "ipython",
    "version": 3
   },
   "file_extension": ".py",
   "mimetype": "text/x-python",
   "name": "python",
   "nbconvert_exporter": "python",
   "pygments_lexer": "ipython3",
   "version": "3.11.2"
  }
 },
 "nbformat": 4,
 "nbformat_minor": 2
}
