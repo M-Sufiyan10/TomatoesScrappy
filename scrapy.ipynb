{
 "cells": [
  {
   "cell_type": "markdown",
   "metadata": {},
   "source": [
    "Importing all necessary libraries"
   ]
  },
  {
   "cell_type": "code",
   "execution_count": 77,
   "metadata": {},
   "outputs": [],
   "source": [
    "import requests\n",
    "from bs4 import BeautifulSoup\n",
    "import matplotlib.pyplot as plt\n",
    "import numpy as np \n",
    "import pandas as pd\n",
    "import seaborn as sns"
   ]
  },
  {
   "cell_type": "markdown",
   "metadata": {},
   "source": [
    "'Certified Fresh' , Genre :'Adventure_movies' : Rating : 'G'"
   ]
  },
  {
   "cell_type": "code",
   "execution_count": 78,
   "metadata": {},
   "outputs": [],
   "source": [
    "\n",
    "movie_dict={'Title':[],'Rating':[],'Genre':[]}\n",
    "def fetchUrl(url):\n",
    "    try:\n",
    "        response = requests.get(url)\n",
    "    \n",
    "        soup=BeautifulSoup(response.text, 'html.parser')\n",
    "        return soup\n",
    "    except Exception as e:\n",
    "        print(\"Error: \",e)\n",
    "        \n",
    "def scrapingData(soup,url):\n",
    "    fetch_movie=soup.find_all('span',class_='p--small',attrs={'data-qa':\"discovery-media-list-item-title\"})\n",
    "    fetch_rating=soup.find_all('rt-text',attrs={'slot':\"criticsScore\"})\n",
    "    try:\n",
    "        fetch_genre_resp=requests.get(url)\n",
    "    except Exception as e:\n",
    "        print (\"Error: \",e)\n",
    "    fetch_genre=fetch_genre_resp.url[fetch_genre_resp.url.find('genres'):fetch_genre_resp.url.find('~ratings')]\n",
    "    fetch_genre=fetch_genre[7:]\n",
    "    for index,movies in enumerate(fetch_movie):\n",
    "        movie_dict['Title'].append(movies.text.strip())\n",
    "        movie_dict['Rating'].append(fetch_rating[index].text)\n",
    "        movie_dict['Genre'].append(fetch_genre)\n",
    "    return movie_dict   \n",
    "\n",
    "url=[\"https://www.rottentomatoes.com/browse/movies_in_theaters/critics:certified_fresh~genres:adventure~ratings:g\",\"https://www.rottentomatoes.com/browse/movies_in_theaters/critics:certified_fresh~genres:action~ratings:g\",\"https://www.rottentomatoes.com/browse/movies_in_theaters/critics:certified_fresh~genres:action~ratings:r\",\"https://www.rottentomatoes.com/browse/movies_in_theaters/critics:certified_fresh~genres:action~ratings:nr\",\"https://www.rottentomatoes.com/browse/movies_in_theaters/critics:certified_fresh~genres:action~ratings:pg_13\",\"https://www.rottentomatoes.com/browse/movies_in_theaters/critics:certified_fresh~genres:adventure~ratings:pg\",\"https://www.rottentomatoes.com/browse/movies_in_theaters/critics:certified_fresh~genres:adventure~ratings:pg_13\",\"https://www.rottentomatoes.com/browse/movies_in_theaters/critics:certified_fresh~genres:animation~ratings:pg\",\"https://www.rottentomatoes.com/browse/movies_in_theaters/critics:certified_fresh~genres:comedy~ratings:pg_13\",\"https://www.rottentomatoes.com/browse/tv_series_browse/critics:fresh~genres:adventure~ratings:tvg\"]\n",
    "\n",
    "for lists in url:\n",
    "    soup=fetchUrl(lists)\n",
    "    movie_data=scrapingData(soup,lists)\n"
   ]
  },
  {
   "cell_type": "markdown",
   "metadata": {},
   "source": [
    "create a dataframe and store a csv file for all scrape data\n"
   ]
  },
  {
   "cell_type": "code",
   "execution_count": 79,
   "metadata": {},
   "outputs": [],
   "source": [
    "df=pd.DataFrame.from_dict(movie_data)\n",
    "df.to_csv('movies.csv',index=False)"
   ]
  }
 ],
 "metadata": {
  "kernelspec": {
   "display_name": "Python 3",
   "language": "python",
   "name": "python3"
  },
  "language_info": {
   "codemirror_mode": {
    "name": "ipython",
    "version": 3
   },
   "file_extension": ".py",
   "mimetype": "text/x-python",
   "name": "python",
   "nbconvert_exporter": "python",
   "pygments_lexer": "ipython3",
   "version": "3.11.2"
  }
 },
 "nbformat": 4,
 "nbformat_minor": 2
}
