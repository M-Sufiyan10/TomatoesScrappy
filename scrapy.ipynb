{
 "cells": [
  {
   "cell_type": "markdown",
   "metadata": {},
   "source": [
    "Importing all necessary libraries"
   ]
  },
  {
   "cell_type": "code",
   "execution_count": 40,
   "metadata": {},
   "outputs": [],
   "source": [
    "import requests\n",
    "from bs4 import BeautifulSoup\n",
    "import matplotlib.pyplot as plt\n",
    "import numpy as np \n",
    "import pandas as pd\n",
    "import seaborn as sns"
   ]
  },
  {
   "cell_type": "markdown",
   "metadata": {},
   "source": [
    "'Certified Fresh' , Genre :'Adventure_movies' : Rating : 'G'"
   ]
  },
  {
   "cell_type": "code",
   "execution_count": 44,
   "metadata": {},
   "outputs": [],
   "source": [
    "def fetchUrl(url):\n",
    "    response = requests.get(url)\n",
    "    soup=BeautifulSoup(response.text, 'html.parser')\n",
    "    return soup\n",
    "    fetch_movie = [movie.strip() for movie in fetch_movie]\n",
    "\n",
    "def scrapingData(soup,url):\n",
    "    fetch_movie=soup.find_all('span',class_='p--small',attrs={'data-qa':\"discovery-media-list-item-title\"})\n",
    "    fetch_rating=soup.find_all('rt-text',attrs={'slot':\"criticsScore\"})\n",
    "    fetch_genre_resp=requests.get(url)\n",
    "    fetch_genre=fetch_genre_resp.url[fetch_genre_resp.url.find('genres'):fetch_genre_resp.url.find('~ratings')]\n",
    "    fetch_genre=fetch_genre[7:]\n",
    "    movie_dict={'Title':[],'Rating':[],'Genre':[]}\n",
    "    for index,movies in enumerate(fetch_movie):\n",
    "        movie_dict['Title'].append(movies.text.strip())\n",
    "        movie_dict['Rating'].append(fetch_rating[index].text)\n",
    "        movie_dict['Genre'].append(fetch_genre)\n",
    "    return movie_dict   \n",
    "\n",
    "url=\"https://www.rottentomatoes.com/browse/movies_in_theaters/critics:certified_fresh~genres:adventure~ratings:g\"\n",
    "soup=fetchUrl(url)\n",
    "movie_data=scrapingData(soup,url)\n",
    "df=pd.DataFrame.from_dict(movie_data)\n",
    "df.to_csv('movie_data.csv',index=False)"
   ]
  },
  {
   "cell_type": "code",
   "execution_count": null,
   "metadata": {},
   "outputs": [],
   "source": []
  }
 ],
 "metadata": {
  "kernelspec": {
   "display_name": "Python 3",
   "language": "python",
   "name": "python3"
  },
  "language_info": {
   "codemirror_mode": {
    "name": "ipython",
    "version": 3
   },
   "file_extension": ".py",
   "mimetype": "text/x-python",
   "name": "python",
   "nbconvert_exporter": "python",
   "pygments_lexer": "ipython3",
   "version": "3.11.2"
  }
 },
 "nbformat": 4,
 "nbformat_minor": 2
}
